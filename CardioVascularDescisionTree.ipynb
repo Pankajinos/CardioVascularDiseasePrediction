{
 "cells": [
  {
   "cell_type": "code",
   "execution_count": 2,
   "id": "0cba8abb-85cc-48a6-ac8c-e99a56be36b6",
   "metadata": {},
   "outputs": [],
   "source": [
    "import pandas as pd"
   ]
  },
  {
   "cell_type": "code",
   "execution_count": 3,
   "id": "84b92253-db25-43ad-9731-8d72c8c69442",
   "metadata": {},
   "outputs": [
    {
     "name": "stdout",
     "output_type": "stream",
     "text": [
      "Requirement already satisfied: kagglehub in c:\\users\\rajar\\anaconda3\\lib\\site-packages (0.3.10)\n",
      "Requirement already satisfied: packaging in c:\\users\\rajar\\anaconda3\\lib\\site-packages (from kagglehub) (23.2)\n",
      "Requirement already satisfied: pyyaml in c:\\users\\rajar\\anaconda3\\lib\\site-packages (from kagglehub) (6.0.1)\n",
      "Requirement already satisfied: requests in c:\\users\\rajar\\anaconda3\\lib\\site-packages (from kagglehub) (2.32.2)\n",
      "Requirement already satisfied: tqdm in c:\\users\\rajar\\anaconda3\\lib\\site-packages (from kagglehub) (4.66.4)\n",
      "Requirement already satisfied: charset-normalizer<4,>=2 in c:\\users\\rajar\\anaconda3\\lib\\site-packages (from requests->kagglehub) (2.0.4)\n",
      "Requirement already satisfied: idna<4,>=2.5 in c:\\users\\rajar\\anaconda3\\lib\\site-packages (from requests->kagglehub) (3.7)\n",
      "Requirement already satisfied: urllib3<3,>=1.21.1 in c:\\users\\rajar\\anaconda3\\lib\\site-packages (from requests->kagglehub) (2.2.2)\n",
      "Requirement already satisfied: certifi>=2017.4.17 in c:\\users\\rajar\\anaconda3\\lib\\site-packages (from requests->kagglehub) (2024.7.4)\n",
      "Requirement already satisfied: colorama in c:\\users\\rajar\\anaconda3\\lib\\site-packages (from tqdm->kagglehub) (0.4.6)\n"
     ]
    }
   ],
   "source": [
    "!pip install kagglehub"
   ]
  },
  {
   "cell_type": "code",
   "execution_count": 4,
   "id": "ee24aae8-0255-4234-8cc8-e2bd76aa4008",
   "metadata": {},
   "outputs": [],
   "source": [
    "import kagglehub "
   ]
  },
  {
   "cell_type": "code",
   "execution_count": 5,
   "id": "84c9f49e-8c05-4ed9-baa4-29ed86ad826d",
   "metadata": {},
   "outputs": [
    {
     "name": "stdout",
     "output_type": "stream",
     "text": [
      "Warning: Looks like you're using an outdated `kagglehub` version (installed: 0.3.10), please consider upgrading to the latest version (0.3.11).\n"
     ]
    }
   ],
   "source": [
    "path = kagglehub.dataset_download(\"bhadaneeraj/cardio-vascular-disease-detection\")"
   ]
  },
  {
   "cell_type": "code",
   "execution_count": 6,
   "id": "2f5f8edc-541e-44dd-9c83-031a857f32f9",
   "metadata": {},
   "outputs": [
    {
     "name": "stdout",
     "output_type": "stream",
     "text": [
      "Path is C:\\Users\\rajar\\.cache\\kagglehub\\datasets\\bhadaneeraj\\cardio-vascular-disease-detection\\versions\\1\n"
     ]
    }
   ],
   "source": [
    "print(\"Path is \"+path)"
   ]
  },
  {
   "cell_type": "code",
   "execution_count": 7,
   "id": "c074ca4b",
   "metadata": {},
   "outputs": [],
   "source": [
    "df=pd.read_csv(\"cardio_train.csv\",delimiter=';')"
   ]
  },
  {
   "cell_type": "code",
   "execution_count": 8,
   "id": "0a506db5",
   "metadata": {},
   "outputs": [
    {
     "data": {
      "text/html": [
       "<div>\n",
       "<style scoped>\n",
       "    .dataframe tbody tr th:only-of-type {\n",
       "        vertical-align: middle;\n",
       "    }\n",
       "\n",
       "    .dataframe tbody tr th {\n",
       "        vertical-align: top;\n",
       "    }\n",
       "\n",
       "    .dataframe thead th {\n",
       "        text-align: right;\n",
       "    }\n",
       "</style>\n",
       "<table border=\"1\" class=\"dataframe\">\n",
       "  <thead>\n",
       "    <tr style=\"text-align: right;\">\n",
       "      <th></th>\n",
       "      <th>id</th>\n",
       "      <th>age</th>\n",
       "      <th>gender</th>\n",
       "      <th>height</th>\n",
       "      <th>weight</th>\n",
       "      <th>ap_hi</th>\n",
       "      <th>ap_lo</th>\n",
       "      <th>cholesterol</th>\n",
       "      <th>gluc</th>\n",
       "      <th>smoke</th>\n",
       "      <th>alco</th>\n",
       "      <th>active</th>\n",
       "      <th>cardio</th>\n",
       "    </tr>\n",
       "  </thead>\n",
       "  <tbody>\n",
       "    <tr>\n",
       "      <th>0</th>\n",
       "      <td>988</td>\n",
       "      <td>22469</td>\n",
       "      <td>1</td>\n",
       "      <td>155</td>\n",
       "      <td>69.0</td>\n",
       "      <td>130</td>\n",
       "      <td>80</td>\n",
       "      <td>2</td>\n",
       "      <td>2</td>\n",
       "      <td>0</td>\n",
       "      <td>0</td>\n",
       "      <td>1</td>\n",
       "      <td>0</td>\n",
       "    </tr>\n",
       "    <tr>\n",
       "      <th>1</th>\n",
       "      <td>989</td>\n",
       "      <td>14648</td>\n",
       "      <td>1</td>\n",
       "      <td>163</td>\n",
       "      <td>71.0</td>\n",
       "      <td>110</td>\n",
       "      <td>70</td>\n",
       "      <td>1</td>\n",
       "      <td>1</td>\n",
       "      <td>0</td>\n",
       "      <td>0</td>\n",
       "      <td>1</td>\n",
       "      <td>1</td>\n",
       "    </tr>\n",
       "    <tr>\n",
       "      <th>2</th>\n",
       "      <td>990</td>\n",
       "      <td>21901</td>\n",
       "      <td>1</td>\n",
       "      <td>165</td>\n",
       "      <td>70.0</td>\n",
       "      <td>120</td>\n",
       "      <td>80</td>\n",
       "      <td>1</td>\n",
       "      <td>1</td>\n",
       "      <td>0</td>\n",
       "      <td>0</td>\n",
       "      <td>1</td>\n",
       "      <td>0</td>\n",
       "    </tr>\n",
       "    <tr>\n",
       "      <th>3</th>\n",
       "      <td>991</td>\n",
       "      <td>14549</td>\n",
       "      <td>2</td>\n",
       "      <td>165</td>\n",
       "      <td>85.0</td>\n",
       "      <td>120</td>\n",
       "      <td>80</td>\n",
       "      <td>1</td>\n",
       "      <td>1</td>\n",
       "      <td>1</td>\n",
       "      <td>1</td>\n",
       "      <td>1</td>\n",
       "      <td>0</td>\n",
       "    </tr>\n",
       "    <tr>\n",
       "      <th>4</th>\n",
       "      <td>992</td>\n",
       "      <td>23393</td>\n",
       "      <td>1</td>\n",
       "      <td>155</td>\n",
       "      <td>62.0</td>\n",
       "      <td>120</td>\n",
       "      <td>80</td>\n",
       "      <td>1</td>\n",
       "      <td>1</td>\n",
       "      <td>0</td>\n",
       "      <td>0</td>\n",
       "      <td>1</td>\n",
       "      <td>0</td>\n",
       "    </tr>\n",
       "  </tbody>\n",
       "</table>\n",
       "</div>"
      ],
      "text/plain": [
       "    id    age  gender  height  weight  ap_hi  ap_lo  cholesterol  gluc  smoke  \\\n",
       "0  988  22469       1     155    69.0    130     80            2     2      0   \n",
       "1  989  14648       1     163    71.0    110     70            1     1      0   \n",
       "2  990  21901       1     165    70.0    120     80            1     1      0   \n",
       "3  991  14549       2     165    85.0    120     80            1     1      1   \n",
       "4  992  23393       1     155    62.0    120     80            1     1      0   \n",
       "\n",
       "   alco  active  cardio  \n",
       "0     0       1       0  \n",
       "1     0       1       1  \n",
       "2     0       1       0  \n",
       "3     1       1       0  \n",
       "4     0       1       0  "
      ]
     },
     "execution_count": 8,
     "metadata": {},
     "output_type": "execute_result"
    }
   ],
   "source": [
    "df.head()"
   ]
  },
  {
   "cell_type": "code",
   "execution_count": 9,
   "id": "a4b6757b-d648-407b-9edd-572f6d32f6d7",
   "metadata": {},
   "outputs": [],
   "source": [
    "#age is in days so we convert in into years \n",
    "df['age']=df['age']/365;"
   ]
  },
  {
   "cell_type": "markdown",
   "id": "97d09fb7-1dd5-43fc-a33a-c5fcb3f9bfb4",
   "metadata": {},
   "source": [
    "## Removing outliers\n",
    "We can use two techniques to remove outliers \n",
    "- Inter Quartile Range (IQR)\n",
    "- Percentile method (considering data points between 2.5% to 97.5%)"
   ]
  },
  {
   "cell_type": "markdown",
   "id": "1c2ce10f-98eb-4d68-a602-3662f13cdb15",
   "metadata": {},
   "source": [
    "### 1. IQR"
   ]
  },
  {
   "cell_type": "code",
   "execution_count": 12,
   "id": "03f1e078-db4f-4d0b-b7bd-b332bfe91fb9",
   "metadata": {
    "scrolled": true
   },
   "outputs": [],
   "source": [
    "def iqr_range(df, label):\n",
    "    Q1, Q3 = df[label].quantile([0.25,0.75])\n",
    "    IQR = Q3-Q1\n",
    "    lower = Q1 - 1.5*IQR\n",
    "    upper = Q3 + 1.5*IQR\n",
    "    return lower, upper"
   ]
  },
  {
   "cell_type": "markdown",
   "id": "34092152-9120-4114-92da-633b46292719",
   "metadata": {},
   "source": [
    "### Acceptable Range of different features using IQR"
   ]
  },
  {
   "cell_type": "code",
   "execution_count": 14,
   "id": "650b1ab9-12c9-40d9-9263-ff98d7c2ebae",
   "metadata": {},
   "outputs": [],
   "source": [
    "min_weight, max_weight = iqr_range(df,\"weight\")\n",
    "min_height, max_height = iqr_range(df,\"height\")\n",
    "min_ap_hi, max_ap_hi = iqr_range(df,\"ap_hi\")\n",
    "min_ap_lo, max_ap_lo = iqr_range(df,\"ap_lo\")\n",
    "\n",
    "df_cleaned = df[df['weight'].between(min_weight, max_weight)&df['height'].between(min_height, max_height)&df['ap_hi'].between(min_ap_hi, max_ap_hi)&df['ap_lo'].between(min_ap_lo, max_ap_lo) ]\n"
   ]
  },
  {
   "cell_type": "code",
   "execution_count": 15,
   "id": "e3dd96f8-265e-4017-9991-6abf875b1699",
   "metadata": {},
   "outputs": [
    {
     "data": {
      "text/html": [
       "<div>\n",
       "<style scoped>\n",
       "    .dataframe tbody tr th:only-of-type {\n",
       "        vertical-align: middle;\n",
       "    }\n",
       "\n",
       "    .dataframe tbody tr th {\n",
       "        vertical-align: top;\n",
       "    }\n",
       "\n",
       "    .dataframe thead th {\n",
       "        text-align: right;\n",
       "    }\n",
       "</style>\n",
       "<table border=\"1\" class=\"dataframe\">\n",
       "  <thead>\n",
       "    <tr style=\"text-align: right;\">\n",
       "      <th></th>\n",
       "      <th>id</th>\n",
       "      <th>age</th>\n",
       "      <th>gender</th>\n",
       "      <th>height</th>\n",
       "      <th>weight</th>\n",
       "      <th>ap_hi</th>\n",
       "      <th>ap_lo</th>\n",
       "      <th>cholesterol</th>\n",
       "      <th>gluc</th>\n",
       "      <th>smoke</th>\n",
       "      <th>alco</th>\n",
       "      <th>active</th>\n",
       "      <th>cardio</th>\n",
       "    </tr>\n",
       "  </thead>\n",
       "  <tbody>\n",
       "    <tr>\n",
       "      <th>count</th>\n",
       "      <td>61884.000000</td>\n",
       "      <td>61884.000000</td>\n",
       "      <td>61884.000000</td>\n",
       "      <td>61884.000000</td>\n",
       "      <td>61884.000000</td>\n",
       "      <td>61884.000000</td>\n",
       "      <td>61884.000000</td>\n",
       "      <td>61884.000000</td>\n",
       "      <td>61884.000000</td>\n",
       "      <td>61884.000000</td>\n",
       "      <td>61884.000000</td>\n",
       "      <td>61884.000000</td>\n",
       "      <td>61884.000000</td>\n",
       "    </tr>\n",
       "    <tr>\n",
       "      <th>mean</th>\n",
       "      <td>50437.813312</td>\n",
       "      <td>53.406312</td>\n",
       "      <td>1.348458</td>\n",
       "      <td>164.407391</td>\n",
       "      <td>73.177365</td>\n",
       "      <td>126.415907</td>\n",
       "      <td>81.698452</td>\n",
       "      <td>1.357572</td>\n",
       "      <td>1.220542</td>\n",
       "      <td>0.086274</td>\n",
       "      <td>0.052275</td>\n",
       "      <td>0.804570</td>\n",
       "      <td>0.493763</td>\n",
       "    </tr>\n",
       "    <tr>\n",
       "      <th>std</th>\n",
       "      <td>28578.590101</td>\n",
       "      <td>6.735683</td>\n",
       "      <td>0.476486</td>\n",
       "      <td>7.529037</td>\n",
       "      <td>12.264403</td>\n",
       "      <td>14.289828</td>\n",
       "      <td>7.672303</td>\n",
       "      <td>0.675170</td>\n",
       "      <td>0.567503</td>\n",
       "      <td>0.280771</td>\n",
       "      <td>0.222583</td>\n",
       "      <td>0.396535</td>\n",
       "      <td>0.499965</td>\n",
       "    </tr>\n",
       "    <tr>\n",
       "      <th>min</th>\n",
       "      <td>988.000000</td>\n",
       "      <td>29.750685</td>\n",
       "      <td>1.000000</td>\n",
       "      <td>143.000000</td>\n",
       "      <td>40.000000</td>\n",
       "      <td>90.000000</td>\n",
       "      <td>65.000000</td>\n",
       "      <td>1.000000</td>\n",
       "      <td>1.000000</td>\n",
       "      <td>0.000000</td>\n",
       "      <td>0.000000</td>\n",
       "      <td>0.000000</td>\n",
       "      <td>0.000000</td>\n",
       "    </tr>\n",
       "    <tr>\n",
       "      <th>25%</th>\n",
       "      <td>25628.750000</td>\n",
       "      <td>48.558219</td>\n",
       "      <td>1.000000</td>\n",
       "      <td>159.000000</td>\n",
       "      <td>65.000000</td>\n",
       "      <td>120.000000</td>\n",
       "      <td>80.000000</td>\n",
       "      <td>1.000000</td>\n",
       "      <td>1.000000</td>\n",
       "      <td>0.000000</td>\n",
       "      <td>0.000000</td>\n",
       "      <td>1.000000</td>\n",
       "      <td>0.000000</td>\n",
       "    </tr>\n",
       "    <tr>\n",
       "      <th>50%</th>\n",
       "      <td>50477.500000</td>\n",
       "      <td>54.021918</td>\n",
       "      <td>1.000000</td>\n",
       "      <td>165.000000</td>\n",
       "      <td>72.000000</td>\n",
       "      <td>120.000000</td>\n",
       "      <td>80.000000</td>\n",
       "      <td>1.000000</td>\n",
       "      <td>1.000000</td>\n",
       "      <td>0.000000</td>\n",
       "      <td>0.000000</td>\n",
       "      <td>1.000000</td>\n",
       "      <td>0.000000</td>\n",
       "    </tr>\n",
       "    <tr>\n",
       "      <th>75%</th>\n",
       "      <td>75106.500000</td>\n",
       "      <td>58.465753</td>\n",
       "      <td>2.000000</td>\n",
       "      <td>170.000000</td>\n",
       "      <td>81.000000</td>\n",
       "      <td>140.000000</td>\n",
       "      <td>90.000000</td>\n",
       "      <td>1.000000</td>\n",
       "      <td>1.000000</td>\n",
       "      <td>0.000000</td>\n",
       "      <td>0.000000</td>\n",
       "      <td>1.000000</td>\n",
       "      <td>1.000000</td>\n",
       "    </tr>\n",
       "    <tr>\n",
       "      <th>max</th>\n",
       "      <td>99999.000000</td>\n",
       "      <td>64.967123</td>\n",
       "      <td>2.000000</td>\n",
       "      <td>186.000000</td>\n",
       "      <td>107.000000</td>\n",
       "      <td>170.000000</td>\n",
       "      <td>105.000000</td>\n",
       "      <td>3.000000</td>\n",
       "      <td>3.000000</td>\n",
       "      <td>1.000000</td>\n",
       "      <td>1.000000</td>\n",
       "      <td>1.000000</td>\n",
       "      <td>1.000000</td>\n",
       "    </tr>\n",
       "  </tbody>\n",
       "</table>\n",
       "</div>"
      ],
      "text/plain": [
       "                 id           age        gender        height        weight  \\\n",
       "count  61884.000000  61884.000000  61884.000000  61884.000000  61884.000000   \n",
       "mean   50437.813312     53.406312      1.348458    164.407391     73.177365   \n",
       "std    28578.590101      6.735683      0.476486      7.529037     12.264403   \n",
       "min      988.000000     29.750685      1.000000    143.000000     40.000000   \n",
       "25%    25628.750000     48.558219      1.000000    159.000000     65.000000   \n",
       "50%    50477.500000     54.021918      1.000000    165.000000     72.000000   \n",
       "75%    75106.500000     58.465753      2.000000    170.000000     81.000000   \n",
       "max    99999.000000     64.967123      2.000000    186.000000    107.000000   \n",
       "\n",
       "              ap_hi         ap_lo   cholesterol          gluc         smoke  \\\n",
       "count  61884.000000  61884.000000  61884.000000  61884.000000  61884.000000   \n",
       "mean     126.415907     81.698452      1.357572      1.220542      0.086274   \n",
       "std       14.289828      7.672303      0.675170      0.567503      0.280771   \n",
       "min       90.000000     65.000000      1.000000      1.000000      0.000000   \n",
       "25%      120.000000     80.000000      1.000000      1.000000      0.000000   \n",
       "50%      120.000000     80.000000      1.000000      1.000000      0.000000   \n",
       "75%      140.000000     90.000000      1.000000      1.000000      0.000000   \n",
       "max      170.000000    105.000000      3.000000      3.000000      1.000000   \n",
       "\n",
       "               alco        active        cardio  \n",
       "count  61884.000000  61884.000000  61884.000000  \n",
       "mean       0.052275      0.804570      0.493763  \n",
       "std        0.222583      0.396535      0.499965  \n",
       "min        0.000000      0.000000      0.000000  \n",
       "25%        0.000000      1.000000      0.000000  \n",
       "50%        0.000000      1.000000      0.000000  \n",
       "75%        0.000000      1.000000      1.000000  \n",
       "max        1.000000      1.000000      1.000000  "
      ]
     },
     "execution_count": 15,
     "metadata": {},
     "output_type": "execute_result"
    }
   ],
   "source": [
    "df_cleaned.describe()\n",
    "# Previously we have 70,000 data points which now reduced to 61,884 data points beacuse of removeal of outliers"
   ]
  },
  {
   "cell_type": "code",
   "execution_count": null,
   "id": "bcad7ebc-8abf-4c93-bb59-2842e0c52a96",
   "metadata": {},
   "outputs": [],
   "source": [
    "df_cleaned.to_csv(\"cleaned"
   ]
  }
 ],
 "metadata": {
  "kernelspec": {
   "display_name": "Python 3 (ipykernel)",
   "language": "python",
   "name": "python3"
  },
  "language_info": {
   "codemirror_mode": {
    "name": "ipython",
    "version": 3
   },
   "file_extension": ".py",
   "mimetype": "text/x-python",
   "name": "python",
   "nbconvert_exporter": "python",
   "pygments_lexer": "ipython3",
   "version": "3.12.4"
  }
 },
 "nbformat": 4,
 "nbformat_minor": 5
}
